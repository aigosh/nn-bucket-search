{
 "cells": [
  {
   "cell_type": "code",
   "execution_count": 28,
   "metadata": {},
   "outputs": [],
   "source": [
    "import torch\n",
    "from torch import nn\n",
    "from torch.utils import model_zoo\n",
    "import torchvision\n",
    "import numpy as np\n",
    "import pandas as pd"
   ]
  },
  {
   "cell_type": "code",
   "execution_count": 2,
   "metadata": {},
   "outputs": [],
   "source": [
    "model_urls = {\n",
    "    'resnet18': 'https://download.pytorch.org/models/resnet18-5c106cde.pth',\n",
    "    'resnet34': 'https://download.pytorch.org/models/resnet34-333f7ec4.pth',\n",
    "    'resnet50': 'https://download.pytorch.org/models/resnet50-19c8e357.pth',\n",
    "    'resnet101': 'https://download.pytorch.org/models/resnet101-5d3b4d8f.pth',\n",
    "    'insightface': 'https://github.com/foamliu/InsightFace-v3/releases/download/v1.0/insight-face-v3.pt',\n",
    "    'resnet152': 'https://download.pytorch.org/models/resnet152-b121ed2d.pth',\n",
    "}"
   ]
  },
  {
   "cell_type": "code",
   "execution_count": 3,
   "metadata": {},
   "outputs": [],
   "source": [
    "def conv3x3(in_planes, out_planes, stride=1):\n",
    "    \"\"\"3x3 convolution with padding\"\"\"\n",
    "    return nn.Conv2d(in_planes, out_planes, kernel_size=3, stride=stride,\n",
    "                     padding=1, bias=False)\n",
    "\n",
    "\n",
    "class BasicBlock(nn.Module):\n",
    "    expansion = 1\n",
    "\n",
    "    def __init__(self, inplanes, planes, stride=1, downsample=None):\n",
    "        super(BasicBlock, self).__init__()\n",
    "        self.conv1 = conv3x3(inplanes, planes, stride)\n",
    "        self.bn1 = nn.BatchNorm2d(planes)\n",
    "        self.relu = nn.ReLU(inplace=True)\n",
    "        self.conv2 = conv3x3(planes, planes)\n",
    "        self.bn2 = nn.BatchNorm2d(planes)\n",
    "        self.downsample = downsample\n",
    "        self.stride = stride\n",
    "\n",
    "    def forward(self, x):\n",
    "        residual = x\n",
    "\n",
    "        out = self.conv1(x)\n",
    "        out = self.bn1(out)\n",
    "        out = self.relu(out)\n",
    "\n",
    "        out = self.conv2(out)\n",
    "        out = self.bn2(out)\n",
    "\n",
    "        if self.downsample is not None:\n",
    "            residual = self.downsample(x)\n",
    "\n",
    "        out += residual\n",
    "        out = self.relu(out)\n",
    "\n",
    "        return out\n",
    "\n",
    "\n",
    "class Bottleneck(nn.Module):\n",
    "    expansion = 4\n",
    "\n",
    "    def __init__(self, inplanes, planes, stride=1, downsample=None):\n",
    "        super(Bottleneck, self).__init__()\n",
    "        self.conv1 = nn.Conv2d(inplanes, planes, kernel_size=1, bias=False)\n",
    "        self.bn1 = nn.BatchNorm2d(planes)\n",
    "        self.conv2 = nn.Conv2d(planes, planes, kernel_size=3, stride=stride,\n",
    "                               padding=1, bias=False)\n",
    "        self.bn2 = nn.BatchNorm2d(planes)\n",
    "        self.conv3 = nn.Conv2d(planes, planes * 4, kernel_size=1, bias=False)\n",
    "        self.bn3 = nn.BatchNorm2d(planes * 4)\n",
    "        self.relu = nn.ReLU(inplace=True)\n",
    "        self.downsample = downsample\n",
    "        self.stride = stride\n",
    "\n",
    "    def forward(self, x):\n",
    "        residual = x\n",
    "\n",
    "        out = self.conv1(x)\n",
    "        out = self.bn1(out)\n",
    "        out = self.relu(out)\n",
    "\n",
    "        out = self.conv2(out)\n",
    "        out = self.bn2(out)\n",
    "        out = self.relu(out)\n",
    "\n",
    "        out = self.conv3(out)\n",
    "        out = self.bn3(out)\n",
    "\n",
    "        if self.downsample is not None:\n",
    "            residual = self.downsample(x)\n",
    "\n",
    "        out += residual\n",
    "        out = self.relu(out)\n",
    "\n",
    "        return out\n",
    "\n",
    "\n",
    "class SEBlock(nn.Module):\n",
    "    def __init__(self, channel, reduction=16):\n",
    "        super(SEBlock, self).__init__()\n",
    "        self.avg_pool = nn.AdaptiveAvgPool2d(1)\n",
    "        self.fc = nn.Sequential(\n",
    "            nn.Linear(channel, channel // reduction),\n",
    "            nn.PReLU(),\n",
    "            nn.Linear(channel // reduction, channel),\n",
    "            nn.Sigmoid()\n",
    "        )\n",
    "\n",
    "    def forward(self, x):\n",
    "        b, c, _, _ = x.size()\n",
    "        y = self.avg_pool(x).view(b, c)\n",
    "        y = self.fc(y).view(b, c, 1, 1)\n",
    "        return x * y\n",
    "\n",
    "\n",
    "class IRBlock(nn.Module):\n",
    "    expansion = 1\n",
    "\n",
    "    def __init__(self, inplanes, planes, stride=1, downsample=None, use_se=True):\n",
    "        super(IRBlock, self).__init__()\n",
    "        self.bn0 = nn.BatchNorm2d(inplanes)\n",
    "        self.conv1 = conv3x3(inplanes, inplanes)\n",
    "        self.bn1 = nn.BatchNorm2d(inplanes)\n",
    "        self.prelu = nn.PReLU()\n",
    "        self.conv2 = conv3x3(inplanes, planes, stride)\n",
    "        self.bn2 = nn.BatchNorm2d(planes)\n",
    "        self.downsample = downsample\n",
    "        self.stride = stride\n",
    "        self.use_se = use_se\n",
    "        if self.use_se:\n",
    "            self.se = SEBlock(planes)\n",
    "\n",
    "    def forward(self, x):\n",
    "        residual = x\n",
    "        out = self.bn0(x)\n",
    "        out = self.conv1(out)\n",
    "        out = self.bn1(out)\n",
    "        out = self.prelu(out)\n",
    "\n",
    "        out = self.conv2(out)\n",
    "        out = self.bn2(out)\n",
    "        if self.use_se:\n",
    "            out = self.se(out)\n",
    "\n",
    "        if self.downsample is not None:\n",
    "            residual = self.downsample(x)\n",
    "\n",
    "        out += residual\n",
    "        out = self.prelu(out)\n",
    "\n",
    "        return out\n",
    "class ResNet(nn.Module):\n",
    "\n",
    "    def __init__(self, block, layers, use_se=True, im_size=112):\n",
    "        self.inplanes = 64\n",
    "        self.use_se = use_se\n",
    "        super(ResNet, self).__init__()\n",
    "        self.conv1 = nn.Conv2d(3, 64, kernel_size=3, stride=1, bias=False)\n",
    "        self.bn1 = nn.BatchNorm2d(64)\n",
    "        self.prelu = nn.PReLU()\n",
    "        self.maxpool = nn.MaxPool2d(kernel_size=2, stride=2)\n",
    "        self.layer1 = self._make_layer(block, 64, layers[0])\n",
    "        self.layer2 = self._make_layer(block, 128, layers[1], stride=2)\n",
    "        self.layer3 = self._make_layer(block, 256, layers[2], stride=2)\n",
    "        self.layer4 = self._make_layer(block, 512, layers[3], stride=2)\n",
    "        self.bn2 = nn.BatchNorm2d(512)\n",
    "        self.dropout = nn.Dropout()\n",
    "\n",
    "        if im_size == 112:\n",
    "            self.fc = nn.Linear(512 * 7 * 7, 512)\n",
    "        else:  # 224\n",
    "            self.fc = nn.Linear(512 * 14 * 14, 512)\n",
    "        self.bn3 = nn.BatchNorm1d(512)\n",
    "\n",
    "        for m in self.modules():\n",
    "            if isinstance(m, nn.Conv2d):\n",
    "                nn.init.xavier_normal_(m.weight)\n",
    "            elif isinstance(m, nn.BatchNorm2d) or isinstance(m, nn.BatchNorm1d):\n",
    "                nn.init.constant_(m.weight, 1)\n",
    "                nn.init.constant_(m.bias, 0)\n",
    "            elif isinstance(m, nn.Linear):\n",
    "                nn.init.xavier_normal_(m.weight)\n",
    "                nn.init.constant_(m.bias, 0)\n",
    "\n",
    "    def _make_layer(self, block, planes, blocks, stride=1):\n",
    "        downsample = None\n",
    "        if stride != 1 or self.inplanes != planes * block.expansion:\n",
    "            downsample = nn.Sequential(\n",
    "                nn.Conv2d(self.inplanes, planes * block.expansion,\n",
    "                          kernel_size=1, stride=stride, bias=False),\n",
    "                nn.BatchNorm2d(planes * block.expansion),\n",
    "            )\n",
    "\n",
    "        layers = []\n",
    "        layers.append(block(self.inplanes, planes, stride, downsample, use_se=self.use_se))\n",
    "        self.inplanes = planes\n",
    "        for i in range(1, blocks):\n",
    "            layers.append(block(self.inplanes, planes, use_se=self.use_se))\n",
    "\n",
    "        return nn.Sequential(*layers)\n",
    "\n",
    "    def forward(self, x):\n",
    "        x = self.conv1(x)\n",
    "        x = self.bn1(x)\n",
    "        x = self.prelu(x)\n",
    "        x = self.maxpool(x)\n",
    "\n",
    "        x = self.layer1(x)\n",
    "        x = self.layer2(x)\n",
    "        x = self.layer3(x)\n",
    "        x = self.layer4(x)\n",
    "\n",
    "        x = self.bn2(x)\n",
    "        x = self.dropout(x)\n",
    "        x = x.view(x.size(0), -1)\n",
    "        x = self.fc(x)\n",
    "        x = self.bn3(x)\n",
    "\n",
    "        return x\n"
   ]
  },
  {
   "cell_type": "code",
   "execution_count": 4,
   "metadata": {},
   "outputs": [],
   "source": [
    "def resnet18(args, BaseNet=ResNet, **kwargs):\n",
    "    model = BaseNet(IRBlock, [2, 2, 2, 2], use_se=args.use_se, **kwargs)\n",
    "    if args.pretrained:\n",
    "        model.load_state_dict(model_zoo.load_url(model_urls['resnet18']))\n",
    "    return model\n",
    "\n",
    "\n",
    "def resnet34(args, BaseNet=ResNet, **kwargs):\n",
    "    model = ReBaseNetsNet(IRBlock, [3, 4, 6, 3], use_se=args.use_se, **kwargs)\n",
    "    if args.pretrained:\n",
    "        model.load_state_dict(model_zoo.load_url(model_urls['resnet34']))\n",
    "    return model\n",
    "\n",
    "\n",
    "def resnet50(args, BaseNet=ResNet, **kwargs):\n",
    "    model = BaseNet(IRBlock, [3, 4, 6, 3], use_se=args.use_se, im_size=args.im_size, **kwargs)\n",
    "    if args.pretrained:\n",
    "        model.load_state_dict(model_zoo.load_url(model_urls['resnet50']))\n",
    "    return model\n",
    "\n",
    "\n",
    "def resnet101(args, BaseNet=ResNet, Block=IRBlock, **kwargs):\n",
    "    model = BaseNet(IRBlock, [3, 4, 23, 3], use_se=args.use_se, **kwargs)\n",
    "    if args.pretrained:\n",
    "        model.load_state_dict(model_zoo.load_url(model_urls['resnet101']))\n",
    "    return model\n",
    "\n",
    "\n",
    "def resnet152(args, BaseNet=ResNet, **kwargs):\n",
    "    model = ResNet(IRBlock, [3, 8, 36, 3], use_se=args.use_se, **kwargs)\n",
    "    if args.pretrained:\n",
    "        model.load_state_dict(model_zoo.load_url(model_urls['resnet152']))\n",
    "    return model"
   ]
  },
  {
   "cell_type": "code",
   "execution_count": 5,
   "metadata": {},
   "outputs": [],
   "source": [
    "class Args:\n",
    "    pretrained = False\n",
    "    use_se = True"
   ]
  },
  {
   "cell_type": "code",
   "execution_count": 6,
   "metadata": {},
   "outputs": [
    {
     "data": {
      "text/plain": [
       "<All keys matched successfully>"
      ]
     },
     "execution_count": 6,
     "metadata": {},
     "output_type": "execute_result"
    }
   ],
   "source": [
    "args = Args()\n",
    "device = torch.device('cuda:2')\n",
    "model = resnet101(args)\n",
    "model = model.to(device)\n",
    "model.load_state_dict(model_zoo.load_url(model_urls['insightface'], map_location=device))"
   ]
  },
  {
   "cell_type": "code",
   "execution_count": 8,
   "metadata": {},
   "outputs": [],
   "source": [
    "from torchvision import transforms"
   ]
  },
  {
   "cell_type": "code",
   "execution_count": 9,
   "metadata": {},
   "outputs": [],
   "source": [
    "data_transforms = {\n",
    "    'train': transforms.Compose([\n",
    "        transforms.RandomHorizontalFlip(),\n",
    "        transforms.ColorJitter(brightness=0.125, contrast=0.125, saturation=0.125),\n",
    "        transforms.ToTensor(),\n",
    "        transforms.Normalize([0.485, 0.456, 0.406], [0.229, 0.224, 0.225]),\n",
    "    ]),\n",
    "    'val': transforms.Compose([\n",
    "        transforms.ToTensor(),\n",
    "        transforms.Normalize([0.485, 0.456, 0.406], [0.229, 0.224, 0.225])\n",
    "    ]),\n",
    "}"
   ]
  },
  {
   "cell_type": "code",
   "execution_count": 10,
   "metadata": {},
   "outputs": [],
   "source": [
    "model = model.to(device)\n",
    "model.requires_grad_(False)\n",
    "model.eval()\n",
    "pass"
   ]
  },
  {
   "cell_type": "code",
   "execution_count": 11,
   "metadata": {},
   "outputs": [],
   "source": [
    "train_file = '../data/train.csv'\n",
    "validation_file = '../data/validation.csv'"
   ]
  },
  {
   "cell_type": "code",
   "execution_count": 61,
   "metadata": {},
   "outputs": [],
   "source": [
    "def chunk_iterator(df, chunksize=1, limit=None):\n",
    "    length = len(df)\n",
    "    i = 0\n",
    "    \n",
    "    while True:\n",
    "        mn = i * chunksize\n",
    "        mx = mn + min(chunksize, length)\n",
    "\n",
    "        if limit is not None:\n",
    "            mx = min(mx, limit)\n",
    "        \n",
    "        yield df[mn:mx]\n",
    "        i += 1\n",
    "        \n",
    "        if mx >= length or (limit is not None and mx >= limit):\n",
    "            raise StopIteration\n",
    "        "
   ]
  },
  {
   "cell_type": "code",
   "execution_count": 138,
   "metadata": {},
   "outputs": [],
   "source": [
    "class PairwiseCosineSimiliarity(nn.Module):\n",
    "    def __init__(self, X_train, y_train, treshold, dim=1):\n",
    "        super(PairwiseCosineSimiliarity, self).__init__()\n",
    "        self.similiarity = torch.nn.CosineSimilarity(dim=dim)\n",
    "        self.X_train = X_train\n",
    "        self.y_train = y_train\n",
    "        self.treshold = treshold\n",
    "        \n",
    "    def set_treshold(self, treshold):\n",
    "        self.treshold = treshold\n",
    "    \n",
    "    def _get_y_hat(self, sim):\n",
    "        return sim > self.treshold\n",
    "    \n",
    "    def _get_y_true(self, y):\n",
    "        device = y.device\n",
    "        return y[:, None] == self.y_train.to(device)\n",
    "    \n",
    "    def forward(self, X, y, chunksize=None):\n",
    "        assert X.size(0) == y.size(0)\n",
    "        \n",
    "        if chunksize:\n",
    "            sim = [torch.stack([self.similiarity(torch.stack([x]), x_train) for x in X])\n",
    "                    for x_train in chunk_iterator(self.X_train.to(X.device), chunksize=chunksize)]\n",
    "            sim = torch.cat(sim, 1)\n",
    "        else:\n",
    "            sim = torch.stack([self.similiarity(torch.stack([x]).to(X.device), self.X_train) for x in X])\n",
    "\n",
    "        y_hat = self._get_y_hat(sim)\n",
    "        y = self._get_y_true(y)\n",
    "\n",
    "        return y, y_hat"
   ]
  },
  {
   "cell_type": "code",
   "execution_count": 77,
   "metadata": {},
   "outputs": [],
   "source": [
    "from time import time"
   ]
  },
  {
   "cell_type": "code",
   "execution_count": 78,
   "metadata": {},
   "outputs": [],
   "source": [
    "class BalancedAccuracyMeter():\n",
    "    def __init__(self):\n",
    "        self.y = []\n",
    "        self.y_hat = []\n",
    "        \n",
    "    def add(self, y, y_hat):\n",
    "        self.y.append(y)\n",
    "        self.y_hat.append(y_hat)\n",
    "        \n",
    "    def calculate(self):\n",
    "        y = torch.cat(self.y, 0)\n",
    "        y_hat = torch.cat(self.y_hat, 0)\n",
    "        \n",
    "        return torch.tensor([self.accuracy(y, y_hat) \n",
    "                            for y, y_hat in list(zip(y, y_hat))])\n",
    "    def accuracy(self, y, y_hat):\n",
    "        tp = torch.sum(y & y_hat).type(torch.float32)\n",
    "        tn = torch.sum(~y & ~y_hat).type(torch.float32)\n",
    "        p_count = torch.sum(y).type(torch.float32)\n",
    "        n_count = torch.sum(~y).type(torch.float32)\n",
    "        \n",
    "        return (tp / p_count + tn / n_count) / 2\n",
    "    def reset(self):\n",
    "        self.__init__()"
   ]
  },
  {
   "cell_type": "code",
   "execution_count": 79,
   "metadata": {},
   "outputs": [],
   "source": [
    "class CV_Store():\n",
    "    def __init__(self):\n",
    "        self.scores = []\n",
    "        self.parameters = []\n",
    "\n",
    "    def add(self, param, score):\n",
    "        self.parameters.append(param)\n",
    "        self.scores.append(score)\n",
    "        \n",
    "    def flush(self):\n",
    "        self.__init__()\n",
    "    \n",
    "    def get_best(self):\n",
    "        best_index = np.argmax(self.scores)\n",
    "        best = self.parameters[best_index]\n",
    "        best_score = self.scores[best_index]\n",
    "        \n",
    "        return best, best_score\n",
    "    def dataframe(self, sort=None, ascending=None):\n",
    "        data = list(zip(self.parameters, self.scores))\n",
    "        df = pd.DataFrame.from_records(data, columns=['param', 'score'])\n",
    "\n",
    "        if sort or ascending:\n",
    "            df = df.sort_values(sort, ascending=ascending)\n",
    "        \n",
    "        return df"
   ]
  },
  {
   "cell_type": "code",
   "execution_count": 48,
   "metadata": {},
   "outputs": [
    {
     "data": {
      "text/plain": [
       "(0.2, 0.7)"
      ]
     },
     "execution_count": 48,
     "metadata": {},
     "output_type": "execute_result"
    }
   ],
   "source": [
    "store = CV_Store()\n",
    "store.add(0.5, 0.5)\n",
    "store.add(0.2, 0.7)\n",
    "store.add(0.1, 0.3)\n",
    "store.get_best()"
   ]
  },
  {
   "cell_type": "code",
   "execution_count": 49,
   "metadata": {},
   "outputs": [
    {
     "data": {
      "text/html": [
       "<div>\n",
       "<style scoped>\n",
       "    .dataframe tbody tr th:only-of-type {\n",
       "        vertical-align: middle;\n",
       "    }\n",
       "\n",
       "    .dataframe tbody tr th {\n",
       "        vertical-align: top;\n",
       "    }\n",
       "\n",
       "    .dataframe thead th {\n",
       "        text-align: right;\n",
       "    }\n",
       "</style>\n",
       "<table border=\"1\" class=\"dataframe\">\n",
       "  <thead>\n",
       "    <tr style=\"text-align: right;\">\n",
       "      <th></th>\n",
       "      <th>param</th>\n",
       "      <th>score</th>\n",
       "    </tr>\n",
       "  </thead>\n",
       "  <tbody>\n",
       "    <tr>\n",
       "      <th>0</th>\n",
       "      <td>0.5</td>\n",
       "      <td>0.5</td>\n",
       "    </tr>\n",
       "    <tr>\n",
       "      <th>1</th>\n",
       "      <td>0.2</td>\n",
       "      <td>0.7</td>\n",
       "    </tr>\n",
       "    <tr>\n",
       "      <th>2</th>\n",
       "      <td>0.1</td>\n",
       "      <td>0.3</td>\n",
       "    </tr>\n",
       "  </tbody>\n",
       "</table>\n",
       "</div>"
      ],
      "text/plain": [
       "   param  score\n",
       "0    0.5    0.5\n",
       "1    0.2    0.7\n",
       "2    0.1    0.3"
      ]
     },
     "execution_count": 49,
     "metadata": {},
     "output_type": "execute_result"
    }
   ],
   "source": [
    "store.dataframe()"
   ]
  },
  {
   "cell_type": "code",
   "execution_count": 51,
   "metadata": {},
   "outputs": [
    {
     "data": {
      "text/html": [
       "<div>\n",
       "<style scoped>\n",
       "    .dataframe tbody tr th:only-of-type {\n",
       "        vertical-align: middle;\n",
       "    }\n",
       "\n",
       "    .dataframe tbody tr th {\n",
       "        vertical-align: top;\n",
       "    }\n",
       "\n",
       "    .dataframe thead th {\n",
       "        text-align: right;\n",
       "    }\n",
       "</style>\n",
       "<table border=\"1\" class=\"dataframe\">\n",
       "  <thead>\n",
       "    <tr style=\"text-align: right;\">\n",
       "      <th></th>\n",
       "      <th>param</th>\n",
       "      <th>score</th>\n",
       "    </tr>\n",
       "  </thead>\n",
       "  <tbody>\n",
       "    <tr>\n",
       "      <th>0</th>\n",
       "      <td>0.5</td>\n",
       "      <td>0.5</td>\n",
       "    </tr>\n",
       "    <tr>\n",
       "      <th>1</th>\n",
       "      <td>0.2</td>\n",
       "      <td>0.7</td>\n",
       "    </tr>\n",
       "    <tr>\n",
       "      <th>2</th>\n",
       "      <td>0.1</td>\n",
       "      <td>0.3</td>\n",
       "    </tr>\n",
       "  </tbody>\n",
       "</table>\n",
       "</div>"
      ],
      "text/plain": [
       "   param  score\n",
       "0    0.5    0.5\n",
       "1    0.2    0.7\n",
       "2    0.1    0.3"
      ]
     },
     "execution_count": 51,
     "metadata": {},
     "output_type": "execute_result"
    }
   ],
   "source": [
    "store.dataframe('param')"
   ]
  },
  {
   "cell_type": "code",
   "execution_count": 52,
   "metadata": {},
   "outputs": [],
   "source": [
    "def read_string_array(arr, dtype=None):\n",
    "    return np.fromstring(arr[1:-1], dtype=None, sep=' ')"
   ]
  },
  {
   "cell_type": "code",
   "execution_count": 53,
   "metadata": {},
   "outputs": [],
   "source": [
    "def read_string_ndarray(arr, dtype=None):\n",
    "    return np.array([read_string_array(target, dtype=None) for target in arr])"
   ]
  },
  {
   "cell_type": "code",
   "execution_count": 54,
   "metadata": {},
   "outputs": [],
   "source": [
    "def read_chunk(chunk, device=torch.device('cpu')):\n",
    "    X = np.array(chunk['image'].values.tolist(), dtype=np.float32)\n",
    "    y = chunk['label'].to_numpy(dtype=np.int)\n",
    "    \n",
    "    \n",
    "    X = torch.from_numpy(X).to(device)\n",
    "    y = torch.from_numpy(y).to(device)\n",
    "    \n",
    "    return X, y"
   ]
  },
  {
   "cell_type": "code",
   "execution_count": 56,
   "metadata": {},
   "outputs": [],
   "source": [
    "class Counter:\n",
    "    def __init__(self):\n",
    "        self.__count = 0\n",
    "    \n",
    "    def count(self, arr):\n",
    "        self.__count += len(arr)\n",
    "        \n",
    "        return self.get()\n",
    "\n",
    "    def get(self):\n",
    "        return self.__count\n",
    "    \n",
    "    def reset(self):\n",
    "        self.__init__()"
   ]
  },
  {
   "cell_type": "code",
   "execution_count": 179,
   "metadata": {},
   "outputs": [],
   "source": [
    "def cv(model, tresholds, items, chunksize=50000):\n",
    "        store = CV_Store()\n",
    "        \n",
    "        for treshold in tresholds:\n",
    "            model.set_treshold(treshold)\n",
    "            validation_counter = Counter()\n",
    "            acc = BalancedAccuracyMeter()\n",
    "            scores = []\n",
    "            \n",
    "            for item in chunk_iterator(items, 1):\n",
    "                counter = Counter()\n",
    "                X_test, y_test = read_chunk(item, device)\n",
    "                \n",
    "                validation_counter.count(X_test)\n",
    "                \n",
    "                y, y_hat = model(X_test, y_test, chunksize=chunksize)\n",
    "                acc.add(y, y_hat)\n",
    "                \n",
    "                accuracy = acc.calculate().cpu().numpy()[0]\n",
    "                scores.append(accuracy)\n",
    "                \n",
    "                \n",
    "                del X_test\n",
    "                del y_test  \n",
    "            mean_score = np.mean(scores)\n",
    "            store.add(treshold, mean_score)\n",
    "            print('Accuracy:', mean_score)  \n",
    "        \n",
    "        return store"
   ]
  },
  {
   "cell_type": "code",
   "execution_count": 181,
   "metadata": {},
   "outputs": [
    {
     "data": {
      "text/plain": [
       "array([-1. , -0.9, -0.8, -0.7, -0.6, -0.5, -0.4, -0.3, -0.2, -0.1, -0. ,\n",
       "        0.1,  0.2,  0.3,  0.4,  0.5,  0.6,  0.7,  0.8,  0.9,  1. ])"
      ]
     },
     "execution_count": 181,
     "metadata": {},
     "output_type": "execute_result"
    }
   ],
   "source": [
    "tresholds = np.around(list(np.arange(-1.0, 1.1, 0.1)), 2)\n",
    "tresholds"
   ]
  },
  {
   "cell_type": "code",
   "execution_count": 140,
   "metadata": {},
   "outputs": [],
   "source": [
    "def save_treshold(treshold, file='../data/treshold.npy'):\n",
    "    np.save(file, [treshold])\n",
    "def load_treshold(file='../data/treshold.npy'):\n",
    "    return np.load(file)[0]"
   ]
  },
  {
   "cell_type": "code",
   "execution_count": 157,
   "metadata": {},
   "outputs": [],
   "source": [
    "from sklearn.utils import shuffle"
   ]
  },
  {
   "cell_type": "code",
   "execution_count": 141,
   "metadata": {},
   "outputs": [],
   "source": [
    "train_df = pd.read_csv(train_file,\n",
    "                       header=0,\n",
    "                       converters={'image': read_string_array})\n",
    "X_train, y_train = read_chunk(train_df, device=torch.device('cpu'))"
   ]
  },
  {
   "cell_type": "code",
   "execution_count": 192,
   "metadata": {},
   "outputs": [],
   "source": [
    "test_df = pd.read_csv(train_file,\n",
    "                       header=0,\n",
    "                       converters={'image': read_string_array})"
   ]
  },
  {
   "cell_type": "code",
   "execution_count": 193,
   "metadata": {},
   "outputs": [],
   "source": []
  },
  {
   "cell_type": "code",
   "execution_count": 204,
   "metadata": {},
   "outputs": [
    {
     "data": {
      "text/html": [
       "<div>\n",
       "<style scoped>\n",
       "    .dataframe tbody tr th:only-of-type {\n",
       "        vertical-align: middle;\n",
       "    }\n",
       "\n",
       "    .dataframe tbody tr th {\n",
       "        vertical-align: top;\n",
       "    }\n",
       "\n",
       "    .dataframe thead th {\n",
       "        text-align: right;\n",
       "    }\n",
       "</style>\n",
       "<table border=\"1\" class=\"dataframe\">\n",
       "  <thead>\n",
       "    <tr style=\"text-align: right;\">\n",
       "      <th></th>\n",
       "      <th>image</th>\n",
       "      <th>label</th>\n",
       "    </tr>\n",
       "  </thead>\n",
       "  <tbody>\n",
       "    <tr>\n",
       "      <th>218487</th>\n",
       "      <td>[0.351782948, -0.154285207, 0.077856496, -0.21...</td>\n",
       "      <td>5846</td>\n",
       "    </tr>\n",
       "    <tr>\n",
       "      <th>12086</th>\n",
       "      <td>[-0.02917446, 0.15971796, 0.00676232, 0.040410...</td>\n",
       "      <td>118</td>\n",
       "    </tr>\n",
       "    <tr>\n",
       "      <th>290267</th>\n",
       "      <td>[0.106993116, -0.228066728, 0.288791716, -0.16...</td>\n",
       "      <td>8380</td>\n",
       "    </tr>\n",
       "    <tr>\n",
       "      <th>314747</th>\n",
       "      <td>[0.0265333746, 0.476131707, -0.496903479, 0.06...</td>\n",
       "      <td>9229</td>\n",
       "    </tr>\n",
       "    <tr>\n",
       "      <th>177251</th>\n",
       "      <td>[-0.08010014, -0.09655637, -0.21545057, -0.048...</td>\n",
       "      <td>4347</td>\n",
       "    </tr>\n",
       "    <tr>\n",
       "      <th>...</th>\n",
       "      <td>...</td>\n",
       "      <td>...</td>\n",
       "    </tr>\n",
       "    <tr>\n",
       "      <th>113601</th>\n",
       "      <td>[0.119571313, 0.340828836, -0.0396756195, 0.20...</td>\n",
       "      <td>2439</td>\n",
       "    </tr>\n",
       "    <tr>\n",
       "      <th>5016</th>\n",
       "      <td>[-0.211180449, -0.0337612964, -0.0825982764, 0...</td>\n",
       "      <td>14</td>\n",
       "    </tr>\n",
       "    <tr>\n",
       "      <th>40411</th>\n",
       "      <td>[0.0584901348, -0.0190266762, 0.00965311285, -...</td>\n",
       "      <td>612</td>\n",
       "    </tr>\n",
       "    <tr>\n",
       "      <th>230977</th>\n",
       "      <td>[0.11168177, -0.02861234, 0.14351931, 0.229284...</td>\n",
       "      <td>6077</td>\n",
       "    </tr>\n",
       "    <tr>\n",
       "      <th>28058</th>\n",
       "      <td>[-0.05949035, -0.3443184, 0.2657773, 0.1109630...</td>\n",
       "      <td>494</td>\n",
       "    </tr>\n",
       "  </tbody>\n",
       "</table>\n",
       "<p>200 rows × 2 columns</p>\n",
       "</div>"
      ],
      "text/plain": [
       "                                                    image  label\n",
       "218487  [0.351782948, -0.154285207, 0.077856496, -0.21...   5846\n",
       "12086   [-0.02917446, 0.15971796, 0.00676232, 0.040410...    118\n",
       "290267  [0.106993116, -0.228066728, 0.288791716, -0.16...   8380\n",
       "314747  [0.0265333746, 0.476131707, -0.496903479, 0.06...   9229\n",
       "177251  [-0.08010014, -0.09655637, -0.21545057, -0.048...   4347\n",
       "...                                                   ...    ...\n",
       "113601  [0.119571313, 0.340828836, -0.0396756195, 0.20...   2439\n",
       "5016    [-0.211180449, -0.0337612964, -0.0825982764, 0...     14\n",
       "40411   [0.0584901348, -0.0190266762, 0.00965311285, -...    612\n",
       "230977  [0.11168177, -0.02861234, 0.14351931, 0.229284...   6077\n",
       "28058   [-0.05949035, -0.3443184, 0.2657773, 0.1109630...    494\n",
       "\n",
       "[200 rows x 2 columns]"
      ]
     },
     "execution_count": 204,
     "metadata": {},
     "output_type": "execute_result"
    }
   ],
   "source": [
    "test_sub_df = test_df.sample(200)\n",
    "test_sub_df"
   ]
  },
  {
   "cell_type": "code",
   "execution_count": 205,
   "metadata": {},
   "outputs": [],
   "source": [
    "model = PairwiseCosineSimiliarity(X_train, y_train, tresholds[0])"
   ]
  },
  {
   "cell_type": "code",
   "execution_count": 206,
   "metadata": {},
   "outputs": [
    {
     "name": "stderr",
     "output_type": "stream",
     "text": [
      "/home/a.y.igoshin/virtual_environments/main/lib/python3.6/site-packages/ipykernel_launcher.py:23: DeprecationWarning: generator 'chunk_iterator' raised StopIteration\n",
      "/home/a.y.igoshin/virtual_environments/main/lib/python3.6/site-packages/ipykernel_launcher.py:10: DeprecationWarning: generator 'chunk_iterator' raised StopIteration\n",
      "  # Remove the CWD from sys.path while we load stuff.\n"
     ]
    },
    {
     "name": "stdout",
     "output_type": "stream",
     "text": [
      "Accuracy: 0.5\n",
      "Accuracy: 0.5\n",
      "Accuracy: 0.5\n",
      "Accuracy: 0.5\n",
      "Accuracy: 0.5\n",
      "Accuracy: 0.5\n",
      "Accuracy: 0.5\n",
      "Accuracy: 0.5000161\n",
      "Accuracy: 0.5023989\n",
      "Accuracy: 0.5416499\n",
      "Accuracy: 0.7365264\n",
      "Accuracy: 0.92031294\n",
      "Accuracy: 0.9671088\n",
      "Accuracy: 0.95055\n",
      "Accuracy: 0.9366139\n",
      "Accuracy: 0.838028\n",
      "Accuracy: 0.5633803\n",
      "Accuracy: 0.5070423\n",
      "Accuracy: 0.5070423\n",
      "Accuracy: 0.5070423\n",
      "Accuracy: 0.5\n"
     ]
    },
    {
     "data": {
      "text/plain": [
       "(0.2, 0.9671088)"
      ]
     },
     "execution_count": 206,
     "metadata": {},
     "output_type": "execute_result"
    }
   ],
   "source": [
    "store = cv(model, tresholds, test_sub_df, chunksize=50000)\n",
    "store.get_best()"
   ]
  },
  {
   "cell_type": "code",
   "execution_count": 207,
   "metadata": {},
   "outputs": [
    {
     "data": {
      "text/html": [
       "<div>\n",
       "<style scoped>\n",
       "    .dataframe tbody tr th:only-of-type {\n",
       "        vertical-align: middle;\n",
       "    }\n",
       "\n",
       "    .dataframe tbody tr th {\n",
       "        vertical-align: top;\n",
       "    }\n",
       "\n",
       "    .dataframe thead th {\n",
       "        text-align: right;\n",
       "    }\n",
       "</style>\n",
       "<table border=\"1\" class=\"dataframe\">\n",
       "  <thead>\n",
       "    <tr style=\"text-align: right;\">\n",
       "      <th></th>\n",
       "      <th>param</th>\n",
       "      <th>score</th>\n",
       "    </tr>\n",
       "  </thead>\n",
       "  <tbody>\n",
       "    <tr>\n",
       "      <th>0</th>\n",
       "      <td>-1.0</td>\n",
       "      <td>0.500000</td>\n",
       "    </tr>\n",
       "    <tr>\n",
       "      <th>1</th>\n",
       "      <td>-0.9</td>\n",
       "      <td>0.500000</td>\n",
       "    </tr>\n",
       "    <tr>\n",
       "      <th>2</th>\n",
       "      <td>-0.8</td>\n",
       "      <td>0.500000</td>\n",
       "    </tr>\n",
       "    <tr>\n",
       "      <th>3</th>\n",
       "      <td>-0.7</td>\n",
       "      <td>0.500000</td>\n",
       "    </tr>\n",
       "    <tr>\n",
       "      <th>4</th>\n",
       "      <td>-0.6</td>\n",
       "      <td>0.500000</td>\n",
       "    </tr>\n",
       "    <tr>\n",
       "      <th>5</th>\n",
       "      <td>-0.5</td>\n",
       "      <td>0.500000</td>\n",
       "    </tr>\n",
       "    <tr>\n",
       "      <th>6</th>\n",
       "      <td>-0.4</td>\n",
       "      <td>0.500000</td>\n",
       "    </tr>\n",
       "    <tr>\n",
       "      <th>7</th>\n",
       "      <td>-0.3</td>\n",
       "      <td>0.500016</td>\n",
       "    </tr>\n",
       "    <tr>\n",
       "      <th>8</th>\n",
       "      <td>-0.2</td>\n",
       "      <td>0.502399</td>\n",
       "    </tr>\n",
       "    <tr>\n",
       "      <th>9</th>\n",
       "      <td>-0.1</td>\n",
       "      <td>0.541650</td>\n",
       "    </tr>\n",
       "    <tr>\n",
       "      <th>10</th>\n",
       "      <td>-0.0</td>\n",
       "      <td>0.736526</td>\n",
       "    </tr>\n",
       "    <tr>\n",
       "      <th>11</th>\n",
       "      <td>0.1</td>\n",
       "      <td>0.920313</td>\n",
       "    </tr>\n",
       "    <tr>\n",
       "      <th>12</th>\n",
       "      <td>0.2</td>\n",
       "      <td>0.967109</td>\n",
       "    </tr>\n",
       "    <tr>\n",
       "      <th>13</th>\n",
       "      <td>0.3</td>\n",
       "      <td>0.950550</td>\n",
       "    </tr>\n",
       "    <tr>\n",
       "      <th>14</th>\n",
       "      <td>0.4</td>\n",
       "      <td>0.936614</td>\n",
       "    </tr>\n",
       "    <tr>\n",
       "      <th>15</th>\n",
       "      <td>0.5</td>\n",
       "      <td>0.838028</td>\n",
       "    </tr>\n",
       "    <tr>\n",
       "      <th>16</th>\n",
       "      <td>0.6</td>\n",
       "      <td>0.563380</td>\n",
       "    </tr>\n",
       "    <tr>\n",
       "      <th>17</th>\n",
       "      <td>0.7</td>\n",
       "      <td>0.507042</td>\n",
       "    </tr>\n",
       "    <tr>\n",
       "      <th>18</th>\n",
       "      <td>0.8</td>\n",
       "      <td>0.507042</td>\n",
       "    </tr>\n",
       "    <tr>\n",
       "      <th>19</th>\n",
       "      <td>0.9</td>\n",
       "      <td>0.507042</td>\n",
       "    </tr>\n",
       "    <tr>\n",
       "      <th>20</th>\n",
       "      <td>1.0</td>\n",
       "      <td>0.500000</td>\n",
       "    </tr>\n",
       "  </tbody>\n",
       "</table>\n",
       "</div>"
      ],
      "text/plain": [
       "    param     score\n",
       "0    -1.0  0.500000\n",
       "1    -0.9  0.500000\n",
       "2    -0.8  0.500000\n",
       "3    -0.7  0.500000\n",
       "4    -0.6  0.500000\n",
       "5    -0.5  0.500000\n",
       "6    -0.4  0.500000\n",
       "7    -0.3  0.500016\n",
       "8    -0.2  0.502399\n",
       "9    -0.1  0.541650\n",
       "10   -0.0  0.736526\n",
       "11    0.1  0.920313\n",
       "12    0.2  0.967109\n",
       "13    0.3  0.950550\n",
       "14    0.4  0.936614\n",
       "15    0.5  0.838028\n",
       "16    0.6  0.563380\n",
       "17    0.7  0.507042\n",
       "18    0.8  0.507042\n",
       "19    0.9  0.507042\n",
       "20    1.0  0.500000"
      ]
     },
     "execution_count": 207,
     "metadata": {},
     "output_type": "execute_result"
    }
   ],
   "source": [
    "store.dataframe()"
   ]
  },
  {
   "cell_type": "code",
   "execution_count": 210,
   "metadata": {},
   "outputs": [],
   "source": [
    "import matplotlib.pyplot as plt\n",
    "%matplotlib inline"
   ]
  },
  {
   "cell_type": "code",
   "execution_count": 212,
   "metadata": {},
   "outputs": [
    {
     "data": {
      "text/plain": [
       "Text(0, 0.5, 'Score')"
      ]
     },
     "execution_count": 212,
     "metadata": {},
     "output_type": "execute_result"
    },
    {
     "data": {
      "image/png": "[encoded data removed]",
      "text/plain": [
       "<Figure size 432x288 with 1 Axes>"
      ]
     },
     "metadata": {
      "needs_background": "light"
     },
     "output_type": "display_data"
    }
   ],
   "source": [
    "plt.plot(store.parameters, store.scores)\n",
    "plt.xlabel('Treshold')\n",
    "plt.ylabel('Score')"
   ]
  },
  {
   "cell_type": "code",
   "execution_count": 224,
   "metadata": {},
   "outputs": [
    {
     "data": {
      "text/plain": [
       "array([0.12, 0.13, 0.14, 0.15, 0.16, 0.17, 0.18, 0.19, 0.2 , 0.21, 0.22,\n",
       "       0.23, 0.24, 0.25, 0.26, 0.27, 0.28, 0.29, 0.3 ])"
      ]
     },
     "execution_count": 224,
     "metadata": {},
     "output_type": "execute_result"
    }
   ],
   "source": [
    "treshold, _ = store.get_best()\n",
    "tresholds = np.around(list(np.arange( float(treshold - 0.09), float(treshold + 0.1), 0.01)), 2)\n",
    "tresholds"
   ]
  },
  {
   "cell_type": "code",
   "execution_count": 225,
   "metadata": {},
   "outputs": [
    {
     "name": "stderr",
     "output_type": "stream",
     "text": [
      "/home/a.y.igoshin/virtual_environments/main/lib/python3.6/site-packages/ipykernel_launcher.py:23: DeprecationWarning: generator 'chunk_iterator' raised StopIteration\n",
      "/home/a.y.igoshin/virtual_environments/main/lib/python3.6/site-packages/ipykernel_launcher.py:10: DeprecationWarning: generator 'chunk_iterator' raised StopIteration\n",
      "  # Remove the CWD from sys.path while we load stuff.\n"
     ]
    },
    {
     "name": "stdout",
     "output_type": "stream",
     "text": [
      "Accuracy: 0.9331875\n",
      "Accuracy: 0.9408343\n",
      "Accuracy: 0.94734085\n",
      "Accuracy: 0.95272124\n",
      "Accuracy: 0.957072\n",
      "Accuracy: 0.9605399\n",
      "Accuracy: 0.96333206\n",
      "Accuracy: 0.9655025\n",
      "Accuracy: 0.9671088\n",
      "Accuracy: 0.9612914\n",
      "Accuracy: 0.9622441\n",
      "Accuracy: 0.9630031\n",
      "Accuracy: 0.96356964\n",
      "Accuracy: 0.9639165\n",
      "Accuracy: 0.9641873\n",
      "Accuracy: 0.95731384\n",
      "Accuracy: 0.95041\n",
      "Accuracy: 0.9505004\n",
      "Accuracy: 0.95055\n"
     ]
    },
    {
     "data": {
      "text/plain": [
       "(0.2, 0.9671088)"
      ]
     },
     "execution_count": 225,
     "metadata": {},
     "output_type": "execute_result"
    }
   ],
   "source": [
    "store = cv(model, tresholds, test_sub_df, chunksize=50000)\n",
    "store.get_best()"
   ]
  },
  {
   "cell_type": "code",
   "execution_count": 226,
   "metadata": {},
   "outputs": [
    {
     "data": {
      "text/html": [
       "<div>\n",
       "<style scoped>\n",
       "    .dataframe tbody tr th:only-of-type {\n",
       "        vertical-align: middle;\n",
       "    }\n",
       "\n",
       "    .dataframe tbody tr th {\n",
       "        vertical-align: top;\n",
       "    }\n",
       "\n",
       "    .dataframe thead th {\n",
       "        text-align: right;\n",
       "    }\n",
       "</style>\n",
       "<table border=\"1\" class=\"dataframe\">\n",
       "  <thead>\n",
       "    <tr style=\"text-align: right;\">\n",
       "      <th></th>\n",
       "      <th>param</th>\n",
       "      <th>score</th>\n",
       "    </tr>\n",
       "  </thead>\n",
       "  <tbody>\n",
       "    <tr>\n",
       "      <th>0</th>\n",
       "      <td>0.12</td>\n",
       "      <td>0.933187</td>\n",
       "    </tr>\n",
       "    <tr>\n",
       "      <th>1</th>\n",
       "      <td>0.13</td>\n",
       "      <td>0.940834</td>\n",
       "    </tr>\n",
       "    <tr>\n",
       "      <th>2</th>\n",
       "      <td>0.14</td>\n",
       "      <td>0.947341</td>\n",
       "    </tr>\n",
       "    <tr>\n",
       "      <th>3</th>\n",
       "      <td>0.15</td>\n",
       "      <td>0.952721</td>\n",
       "    </tr>\n",
       "    <tr>\n",
       "      <th>4</th>\n",
       "      <td>0.16</td>\n",
       "      <td>0.957072</td>\n",
       "    </tr>\n",
       "    <tr>\n",
       "      <th>5</th>\n",
       "      <td>0.17</td>\n",
       "      <td>0.960540</td>\n",
       "    </tr>\n",
       "    <tr>\n",
       "      <th>6</th>\n",
       "      <td>0.18</td>\n",
       "      <td>0.963332</td>\n",
       "    </tr>\n",
       "    <tr>\n",
       "      <th>7</th>\n",
       "      <td>0.19</td>\n",
       "      <td>0.965503</td>\n",
       "    </tr>\n",
       "    <tr>\n",
       "      <th>8</th>\n",
       "      <td>0.20</td>\n",
       "      <td>0.967109</td>\n",
       "    </tr>\n",
       "    <tr>\n",
       "      <th>9</th>\n",
       "      <td>0.21</td>\n",
       "      <td>0.961291</td>\n",
       "    </tr>\n",
       "    <tr>\n",
       "      <th>10</th>\n",
       "      <td>0.22</td>\n",
       "      <td>0.962244</td>\n",
       "    </tr>\n",
       "    <tr>\n",
       "      <th>11</th>\n",
       "      <td>0.23</td>\n",
       "      <td>0.963003</td>\n",
       "    </tr>\n",
       "    <tr>\n",
       "      <th>12</th>\n",
       "      <td>0.24</td>\n",
       "      <td>0.963570</td>\n",
       "    </tr>\n",
       "    <tr>\n",
       "      <th>13</th>\n",
       "      <td>0.25</td>\n",
       "      <td>0.963916</td>\n",
       "    </tr>\n",
       "    <tr>\n",
       "      <th>14</th>\n",
       "      <td>0.26</td>\n",
       "      <td>0.964187</td>\n",
       "    </tr>\n",
       "    <tr>\n",
       "      <th>15</th>\n",
       "      <td>0.27</td>\n",
       "      <td>0.957314</td>\n",
       "    </tr>\n",
       "    <tr>\n",
       "      <th>16</th>\n",
       "      <td>0.28</td>\n",
       "      <td>0.950410</td>\n",
       "    </tr>\n",
       "    <tr>\n",
       "      <th>17</th>\n",
       "      <td>0.29</td>\n",
       "      <td>0.950500</td>\n",
       "    </tr>\n",
       "    <tr>\n",
       "      <th>18</th>\n",
       "      <td>0.30</td>\n",
       "      <td>0.950550</td>\n",
       "    </tr>\n",
       "  </tbody>\n",
       "</table>\n",
       "</div>"
      ],
      "text/plain": [
       "    param     score\n",
       "0    0.12  0.933187\n",
       "1    0.13  0.940834\n",
       "2    0.14  0.947341\n",
       "3    0.15  0.952721\n",
       "4    0.16  0.957072\n",
       "5    0.17  0.960540\n",
       "6    0.18  0.963332\n",
       "7    0.19  0.965503\n",
       "8    0.20  0.967109\n",
       "9    0.21  0.961291\n",
       "10   0.22  0.962244\n",
       "11   0.23  0.963003\n",
       "12   0.24  0.963570\n",
       "13   0.25  0.963916\n",
       "14   0.26  0.964187\n",
       "15   0.27  0.957314\n",
       "16   0.28  0.950410\n",
       "17   0.29  0.950500\n",
       "18   0.30  0.950550"
      ]
     },
     "execution_count": 226,
     "metadata": {},
     "output_type": "execute_result"
    }
   ],
   "source": [
    "store.dataframe()"
   ]
  },
  {
   "cell_type": "code",
   "execution_count": 227,
   "metadata": {},
   "outputs": [
    {
     "data": {
      "text/plain": [
       "Text(0, 0.5, 'Score')"
      ]
     },
     "execution_count": 227,
     "metadata": {},
     "output_type": "execute_result"
    },
    {
     "data": {
      "image/png": "[encoded data removed]",
      "text/plain": [
       "<Figure size 432x288 with 1 Axes>"
      ]
     },
     "metadata": {
      "needs_background": "light"
     },
     "output_type": "display_data"
    }
   ],
   "source": [
    "plt.plot(store.parameters, store.scores)\n",
    "plt.xlabel('Treshold')\n",
    "plt.ylabel('Score')"
   ]
  },
  {
   "cell_type": "code",
   "execution_count": 228,
   "metadata": {},
   "outputs": [
    {
     "data": {
      "text/plain": [
       "array([0.191, 0.192, 0.193, 0.194, 0.195, 0.196, 0.197, 0.198, 0.199,\n",
       "       0.2  , 0.201, 0.202, 0.203, 0.204, 0.205, 0.206, 0.207, 0.208,\n",
       "       0.209, 0.21 ])"
      ]
     },
     "execution_count": 228,
     "metadata": {},
     "output_type": "execute_result"
    }
   ],
   "source": [
    "treshold, _ = store.get_best()\n",
    "tresholds = np.around(list(np.arange( float(treshold - 0.009), float(treshold + 0.01), 0.001)), 3)\n",
    "tresholds"
   ]
  },
  {
   "cell_type": "code",
   "execution_count": 229,
   "metadata": {},
   "outputs": [
    {
     "name": "stderr",
     "output_type": "stream",
     "text": [
      "/home/a.y.igoshin/virtual_environments/main/lib/python3.6/site-packages/ipykernel_launcher.py:23: DeprecationWarning: generator 'chunk_iterator' raised StopIteration\n",
      "/home/a.y.igoshin/virtual_environments/main/lib/python3.6/site-packages/ipykernel_launcher.py:10: DeprecationWarning: generator 'chunk_iterator' raised StopIteration\n",
      "  # Remove the CWD from sys.path while we load stuff.\n"
     ]
    },
    {
     "name": "stdout",
     "output_type": "stream",
     "text": [
      "Accuracy: 0.9657268\n",
      "Accuracy: 0.96590304\n",
      "Accuracy: 0.96606153\n",
      "Accuracy: 0.9662334\n",
      "Accuracy: 0.96639955\n",
      "Accuracy: 0.96654516\n",
      "Accuracy: 0.96670693\n",
      "Accuracy: 0.9668263\n",
      "Accuracy: 0.96697205\n",
      "Accuracy: 0.9671088\n",
      "Accuracy: 0.9672298\n",
      "Accuracy: 0.9673697\n",
      "Accuracy: 0.9674846\n",
      "Accuracy: 0.96761\n",
      "Accuracy: 0.9677365\n",
      "Accuracy: 0.9678662\n",
      "Accuracy: 0.96796095\n",
      "Accuracy: 0.9610454\n",
      "Accuracy: 0.9611705\n",
      "Accuracy: 0.9612914\n"
     ]
    },
    {
     "data": {
      "text/plain": [
       "(0.207, 0.96796095)"
      ]
     },
     "execution_count": 229,
     "metadata": {},
     "output_type": "execute_result"
    }
   ],
   "source": [
    "store = cv(model, tresholds, test_sub_df, chunksize=50000)\n",
    "store.get_best()"
   ]
  },
  {
   "cell_type": "code",
   "execution_count": 230,
   "metadata": {},
   "outputs": [
    {
     "data": {
      "text/html": [
       "<div>\n",
       "<style scoped>\n",
       "    .dataframe tbody tr th:only-of-type {\n",
       "        vertical-align: middle;\n",
       "    }\n",
       "\n",
       "    .dataframe tbody tr th {\n",
       "        vertical-align: top;\n",
       "    }\n",
       "\n",
       "    .dataframe thead th {\n",
       "        text-align: right;\n",
       "    }\n",
       "</style>\n",
       "<table border=\"1\" class=\"dataframe\">\n",
       "  <thead>\n",
       "    <tr style=\"text-align: right;\">\n",
       "      <th></th>\n",
       "      <th>param</th>\n",
       "      <th>score</th>\n",
       "    </tr>\n",
       "  </thead>\n",
       "  <tbody>\n",
       "    <tr>\n",
       "      <th>0</th>\n",
       "      <td>0.191</td>\n",
       "      <td>0.965727</td>\n",
       "    </tr>\n",
       "    <tr>\n",
       "      <th>1</th>\n",
       "      <td>0.192</td>\n",
       "      <td>0.965903</td>\n",
       "    </tr>\n",
       "    <tr>\n",
       "      <th>2</th>\n",
       "      <td>0.193</td>\n",
       "      <td>0.966062</td>\n",
       "    </tr>\n",
       "    <tr>\n",
       "      <th>3</th>\n",
       "      <td>0.194</td>\n",
       "      <td>0.966233</td>\n",
       "    </tr>\n",
       "    <tr>\n",
       "      <th>4</th>\n",
       "      <td>0.195</td>\n",
       "      <td>0.966400</td>\n",
       "    </tr>\n",
       "    <tr>\n",
       "      <th>5</th>\n",
       "      <td>0.196</td>\n",
       "      <td>0.966545</td>\n",
       "    </tr>\n",
       "    <tr>\n",
       "      <th>6</th>\n",
       "      <td>0.197</td>\n",
       "      <td>0.966707</td>\n",
       "    </tr>\n",
       "    <tr>\n",
       "      <th>7</th>\n",
       "      <td>0.198</td>\n",
       "      <td>0.966826</td>\n",
       "    </tr>\n",
       "    <tr>\n",
       "      <th>8</th>\n",
       "      <td>0.199</td>\n",
       "      <td>0.966972</td>\n",
       "    </tr>\n",
       "    <tr>\n",
       "      <th>9</th>\n",
       "      <td>0.200</td>\n",
       "      <td>0.967109</td>\n",
       "    </tr>\n",
       "    <tr>\n",
       "      <th>10</th>\n",
       "      <td>0.201</td>\n",
       "      <td>0.967230</td>\n",
       "    </tr>\n",
       "    <tr>\n",
       "      <th>11</th>\n",
       "      <td>0.202</td>\n",
       "      <td>0.967370</td>\n",
       "    </tr>\n",
       "    <tr>\n",
       "      <th>12</th>\n",
       "      <td>0.203</td>\n",
       "      <td>0.967485</td>\n",
       "    </tr>\n",
       "    <tr>\n",
       "      <th>13</th>\n",
       "      <td>0.204</td>\n",
       "      <td>0.967610</td>\n",
       "    </tr>\n",
       "    <tr>\n",
       "      <th>14</th>\n",
       "      <td>0.205</td>\n",
       "      <td>0.967736</td>\n",
       "    </tr>\n",
       "    <tr>\n",
       "      <th>15</th>\n",
       "      <td>0.206</td>\n",
       "      <td>0.967866</td>\n",
       "    </tr>\n",
       "    <tr>\n",
       "      <th>16</th>\n",
       "      <td>0.207</td>\n",
       "      <td>0.967961</td>\n",
       "    </tr>\n",
       "    <tr>\n",
       "      <th>17</th>\n",
       "      <td>0.208</td>\n",
       "      <td>0.961045</td>\n",
       "    </tr>\n",
       "    <tr>\n",
       "      <th>18</th>\n",
       "      <td>0.209</td>\n",
       "      <td>0.961170</td>\n",
       "    </tr>\n",
       "    <tr>\n",
       "      <th>19</th>\n",
       "      <td>0.210</td>\n",
       "      <td>0.961291</td>\n",
       "    </tr>\n",
       "  </tbody>\n",
       "</table>\n",
       "</div>"
      ],
      "text/plain": [
       "    param     score\n",
       "0   0.191  0.965727\n",
       "1   0.192  0.965903\n",
       "2   0.193  0.966062\n",
       "3   0.194  0.966233\n",
       "4   0.195  0.966400\n",
       "5   0.196  0.966545\n",
       "6   0.197  0.966707\n",
       "7   0.198  0.966826\n",
       "8   0.199  0.966972\n",
       "9   0.200  0.967109\n",
       "10  0.201  0.967230\n",
       "11  0.202  0.967370\n",
       "12  0.203  0.967485\n",
       "13  0.204  0.967610\n",
       "14  0.205  0.967736\n",
       "15  0.206  0.967866\n",
       "16  0.207  0.967961\n",
       "17  0.208  0.961045\n",
       "18  0.209  0.961170\n",
       "19  0.210  0.961291"
      ]
     },
     "execution_count": 230,
     "metadata": {},
     "output_type": "execute_result"
    }
   ],
   "source": [
    "store.dataframe()"
   ]
  },
  {
   "cell_type": "code",
   "execution_count": 231,
   "metadata": {},
   "outputs": [
    {
     "data": {
      "text/plain": [
       "Text(0, 0.5, 'Score')"
      ]
     },
     "execution_count": 231,
     "metadata": {},
     "output_type": "execute_result"
    },
    {
     "data": {
      "image/png": "[encoded data removed]",
      "text/plain": [
       "<Figure size 432x288 with 1 Axes>"
      ]
     },
     "metadata": {
      "needs_background": "light"
     },
     "output_type": "display_data"
    }
   ],
   "source": [
    "plt.plot(store.parameters, store.scores)\n",
    "plt.xlabel('Treshold')\n",
    "plt.ylabel('Score')"
   ]
  },
  {
   "cell_type": "code",
   "execution_count": 232,
   "metadata": {},
   "outputs": [],
   "source": [
    "treshold, _ = store.get_best()"
   ]
  },
  {
   "cell_type": "code",
   "execution_count": 233,
   "metadata": {},
   "outputs": [],
   "source": [
    "save_treshold(treshold)"
   ]
  },
  {
   "cell_type": "code",
   "execution_count": null,
   "metadata": {},
   "outputs": [],
   "source": []
  }
 ],
 "metadata": {
  "kernelspec": {
   "display_name": "Python 3",
   "language": "python",
   "name": "python3"
  },
  "language_info": {
   "codemirror_mode": {
    "name": "ipython",
    "version": 3
   },
   "file_extension": ".py",
   "mimetype": "text/x-python",
   "name": "python",
   "nbconvert_exporter": "python",
   "pygments_lexer": "ipython3",
   "version": "3.6.5"
  }
 },
 "nbformat": 4,
 "nbformat_minor": 4
}
